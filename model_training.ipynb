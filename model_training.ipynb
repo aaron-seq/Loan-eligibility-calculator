{
 "cells": [
  {
   "cell_type": "markdown",
   "metadata": {},
   "source": [
    "# Upgraded Loan Eligibility Prediction Model\n",
    "\n",
    "This notebook details the process of building an improved machine learning model for predicting loan eligibility. \n",
    "\n",
    "**Upgrades include:**\n",
    "1.  **Feature Engineering**: Introduction of a synthetic CIBIL score and other insightful features like Total Income and Loan-to-Income Ratio.\n",
    "2.  **Data Preprocessing**: Use of log transformation for skewed data and StandardScaler for normalization.\n",
    "3.  **Advanced Model**: Implementation of a `RandomForestClassifier` for better predictive performance.\n",
    "4.  **Model Persistence**: Saving the trained model and the data scaler for use in the Flask web application."
   ]
  },
  {
   "cell_type": "markdown",
   "metadata": {},
   "source": [
    "## 1. Import Libraries and Load Data"
   ]
  },
  {
   "cell_type": "code",
   "execution_count": null,
   "metadata": {},
   "outputs": [],
   "source": [
    "import numpy as np\n",
    "import pandas as pd\n",
    "import seaborn as sns\n",
    "import matplotlib.pyplot as plt\n",
    "import pickle\n",
    "from sklearn.model_selection import train_test_split\n",
    "from sklearn.ensemble import RandomForestClassifier\n",
    "from sklearn.preprocessing import StandardScaler\n",
    "from sklearn.metrics import accuracy_score, classification_report\n",
    "import warnings\n",
    "warnings.filterwarnings('ignore')\n",
    "\n",
    "# Load the dataset\n",
    "df = pd.read_csv('data/train.csv')"
   ]
  },
  {
   "cell_type": "markdown",
   "metadata": {},
   "source": [
    "## 2. Data Cleaning and Preprocessing"
   ]
  },
  {
   "cell_type": "code",
   "execution_count": null,
   "metadata": {},
   "outputs": [],
   "source": [
    "# Drop Loan_ID as it's not useful for prediction\n",
    "df = df.drop('Loan_ID', axis=1)\n",
    "\n",
    "# Handle missing values for categorical features with mode\n",
    "categorical_cols = ['Gender', 'Married', 'Dependents', 'Self_Employed']\n",
    "for col in categorical_cols:\n",
    "    df[col].fillna(df[col].mode()[0], inplace=True)\n",
    "\n",
    "# Handle missing values for numerical features with median (more robust to outliers than mean)\n",
    "numerical_cols = ['LoanAmount', 'Loan_Amount_Term', 'Credit_History']\n",
    "for col in numerical_cols:\n",
    "    df[col].fillna(df[col].median(), inplace=True)"
   ]
  },
  {
   "cell_type": "markdown",
   "metadata": {},
   "source": [
    "## 3. Feature Engineering"
   ]
  },
  {
   "cell_type": "code",
   "execution_count": null,
   "metadata": {},
   "outputs": [],
   "source": [
    "# Function to generate a synthetic CIBIL score based on Credit_History\n",
    "def generate_cibil(credit_history):\n",
    "    if credit_history == 1.0:\n",
    "        # Good credit history -> Higher CIBIL score range\n",
    "        return np.random.randint(680, 900)\n",
    "    else: # credit_history == 0.0\n",
    "        # Bad credit history -> Lower CIBIL score range\n",
    "        return np.random.randint(300, 680)\n",
    "\n",
    "# Apply the function to create the CIBIL_Score column\n",
    "df['CIBIL_Score'] = df['Credit_History'].apply(generate_cibil)\n",
    "\n",
    "# Create Total_Income feature\n",
    "df['Total_Income'] = df['ApplicantIncome'] + df['CoapplicantIncome']\n",
    "\n",
    "# Create Loan_to_Income_Ratio feature\n",
    "df['Loan_to_Income_Ratio'] = df['LoanAmount'] / df['Total_Income']\n",
    "\n",
    "# Create EMI-like feature (Loan Amount per Term)\n",
    "df['EMI_feature'] = df['LoanAmount'] / df['Loan_Amount_Term']\n",
    "\n",
    "# Log transformation for skewed numerical data to normalize distribution\n",
    "df['ApplicantIncome_log'] = np.log(df['ApplicantIncome'] + 1)\n",
    "df['CoapplicantIncome_log'] = np.log(df['CoapplicantIncome'] + 1)\n",
    "df['LoanAmount_log'] = np.log(df['LoanAmount'] + 1)\n",
    "df['Total_Income_log'] = np.log(df['Total_Income'] + 1)\n",
    "\n",
    "# Drop original skewed columns and CoapplicantIncome which is now part of Total_Income\n",
    "df = df.drop(['ApplicantIncome', 'CoapplicantIncome', 'LoanAmount', 'Total_Income'], axis=1)"
   ]
  },
  {
   "cell_type": "markdown",
   "metadata": {},
   "source": [
    "## 4. Encoding Categorical Variables"
   ]
  },
  {
   "cell_type": "code",
   "execution_count": null,
   "metadata": {},
   "outputs": [],
   "source": [
    "# Convert categorical columns to numerical using one-hot encoding\n",
    "df = pd.get_dummies(df, columns=['Gender', 'Married', 'Dependents', 'Education', 'Self_Employed', 'Property_Area'], drop_first=True)\n",
    "\n",
    "# Map Loan_Status to 0 and 1\n",
    "df['Loan_Status'] = df['Loan_Status'].map({'Y': 1, 'N': 0})"
   ]
  },
  {
   "cell_type": "markdown",
   "metadata": {},
   "source": [
    "## 5. Model Training and Evaluation"
   ]
  },
  {
   "cell_type": "code",
   "execution_count": null,
   "metadata": {},
   "outputs": [],
   "source": [
    "# Define features (X) and target (y)\n",
    "X = df.drop('Loan_Status', axis=1)\n",
    "y = df['Loan_Status']\n",
    "\n",
    "# Split the data into training and testing sets\n",
    "X_train, X_test, y_train, y_test = train_test_split(X, y, test_size=0.2, random_state=42, stratify=y)\n",
    "\n",
    "# Scale the numerical features\n",
    "scaler = StandardScaler()\n",
    "X_train_scaled = scaler.fit_transform(X_train)\n",
    "X_test_scaled = scaler.transform(X_test)\n",
    "\n",
    "# Initialize and train the RandomForestClassifier\n",
    "model = RandomForestClassifier(n_estimators=150, max_depth=10, random_state=42)\n",
    "model.fit(X_train_scaled, y_train)\n",
    "\n",
    "# Make predictions\n",
    "y_pred = model.predict(X_test_scaled)\n",
    "\n",
    "# Evaluate the model\n",
    "print(f\"Accuracy Score: {accuracy_score(y_test, y_pred) * 100:.2f}%\")\n",
    "print(\"\\nClassification Report:\")\n",
    "print(classification_report(y_test, y_pred))"
   ]
  },
  {
   "cell_type": "markdown",
   "metadata": {},
   "source": [
    "## 6. Save the Model and Scaler"
   ]
  },
  {
   "cell_type": "code",
   "execution_count": null,
   "metadata": {},
   "outputs": [],
   "source": [
    "# Save the trained model to a file\n",
    "with open('model/loan_eligibility_model.pkl', 'wb') as f:\n",
    "    pickle.dump(model, f)\n",
    "\n",
    "# Save the scaler to a file\n",
    "with open('model/scaler.pkl', 'wb') as f:\n",
    "    pickle.dump(scaler, f)\n",
    "\n",
    "print(\"Model and Scaler have been saved successfully.\")"
   ]
  }
 ],
 "metadata": {
  "kernelspec": {
   "display_name": "Python 3",
   "language": "python",
   "name": "python3"
  },
  "language_info": {
   "codemirror_mode": {
    "name": "ipython",
    "version": 3
   },
   "file_extension": ".py",
   "mimetype": "text/x-python",
   "name": "python",
   "nbconvert_exporter": "python",
   "pygments_lexer": "ipython3",
   "version": "3.8.8"
  }
 },
 "nbformat": 4,
 "nbformat_minor": 4
}
